{
  "cells": [
    {
      "cell_type": "code",
      "source": [
        "import pandas as pd\n",
        "import numpy as np\n",
        "from scipy import stats\n",
        "import seaborn as sns"
      ],
      "metadata": {
        "id": "WjU4EMIdCNHz"
      },
      "execution_count": null,
      "outputs": []
    },
    {
      "cell_type": "markdown",
      "metadata": {
        "id": "aVcmIETZQHPt"
      },
      "source": [
        "# Hypothesis testing: Chi-Square Test within the Montana Library case study\n",
        "\n",
        "In this notebook we perform a chi-square test with the data from the Library of Montana University case study, applying a post-hoc correction to perform pairwise tests and find the true winner."
      ]
    },
    {
      "cell_type": "markdown",
      "source": [
        "## 1.&nbsp;State the Null Hypothesis and the Alternative Hypothesis."
      ],
      "metadata": {
        "id": "NQWQXzWCjlBk"
      }
    },
    {
      "cell_type": "markdown",
      "source": [
        "Null Hypothesis ($H_0$): The click-through rate for all versions of the website is equal.\n",
        "\n",
        "Alternative Hypothesis ($H_A$): The click-through rate for all versions of the website differs."
      ],
      "metadata": {
        "id": "MGwD1tLjjoB6"
      }
    },
    {
      "cell_type": "markdown",
      "source": [
        "## 2.&nbsp; Select an appropriate significance level alpha ($\\alpha$).\n",
        "\n",
        "It was decided that a relatively high alpha was acceptable in this case"
      ],
      "metadata": {
        "id": "NG4PgnCGj78F"
      }
    },
    {
      "cell_type": "code",
      "source": [
        "alpha = 0.1"
      ],
      "metadata": {
        "id": "r6RpgMTekCkC"
      },
      "execution_count": null,
      "outputs": []
    },
    {
      "cell_type": "markdown",
      "source": [
        "## 3.&nbsp; Collect data that is random and independent\n",
        "\n",
        "The important pieces of information (clicks on each element of interest & visits on each page) are scattered around. Let's collect them.\n",
        "\n",
        "Importing the csv's"
      ],
      "metadata": {
        "id": "hDyceAL3lKKb"
      }
    },
    {
      "cell_type": "code",
      "execution_count": null,
      "metadata": {
        "id": "UkRmZnIbQHPy"
      },
      "outputs": [],
      "source": [
        "# Element list Homepage Version 1 - Interact, 5-29-2013.csv\n",
        "url = 'https://drive.google.com/file/d/1Tj6Z4OtJqLBOW0z2fvuGS5EhZo8xTVM6/view?usp=sharing'\n",
        "path = 'https://drive.google.com/uc?export=download&id='+url.split('/')[-2]\n",
        "interact_df = pd.read_csv(path)\n",
        "\n",
        "# Element list Homepage Version 2 - Connect, 5-29-2013.csv\n",
        "url = 'https://drive.google.com/file/d/1qHBdOjUWvJpN-LTg1z2jpeA3mDXQjdch/view?usp=sharing'\n",
        "path = 'https://drive.google.com/uc?export=download&id='+url.split('/')[-2]\n",
        "connect_df = pd.read_csv(path)\n",
        "\n",
        "# Element list Homepage Version 3 - Learn, 5-29-2013.csv\n",
        "url = 'https://drive.google.com/file/d/1g8prRmy3hpVtL6zvkdCwXcgIV0CS48zr/view?usp=sharing'\n",
        "path = 'https://drive.google.com/uc?export=download&id='+url.split('/')[-2]\n",
        "learn_df = pd.read_csv(path)\n",
        "\n",
        "# Element list Homepage Version 4 - Help, 5-29-2013.csv\n",
        "url = 'https://drive.google.com/file/d/1I9bjXkxtiILDogeQmsWCCDlQtRZ8OSrs/view?usp=sharing'\n",
        "path = 'https://drive.google.com/uc?export=download&id='+url.split('/')[-2]\n",
        "help_df = pd.read_csv(path)\n",
        "\n",
        "# Element list Homepage Version 5 - Services, 5-29-2013.csv\n",
        "url = 'https://drive.google.com/file/d/1noDp_jpdAL_LGxU3SPDxqP94pUCqisqW/view?usp=sharing'\n",
        "path = 'https://drive.google.com/uc?export=download&id='+url.split('/')[-2]\n",
        "services_df = pd.read_csv(path)"
      ]
    },
    {
      "cell_type": "markdown",
      "source": [
        "How many clicks did each element get?"
      ],
      "metadata": {
        "id": "er5eCORA_QR8"
      }
    },
    {
      "cell_type": "code",
      "execution_count": null,
      "metadata": {
        "id": "01vrGGGdQHP0"
      },
      "outputs": [],
      "source": [
        "interact_clicks = int(interact_df.loc[interact_df[\"Name\"]==\"INTERACT\", \"No. clicks\"])\n",
        "connect_clicks = int(connect_df.loc[connect_df[\"Name\"]==\"CONNECT\", \"No. clicks\"])\n",
        "learn_clicks = int(learn_df.loc[learn_df[\"Name\"]==\"LEARN\", \"No. clicks\"])\n",
        "help_clicks = int(help_df.loc[help_df[\"Name\"]==\"HELP\", \"No. clicks\"])\n",
        "services_clicks = int(services_df.loc[services_df[\"Name\"]==\"SERVICES\", \"No. clicks\"])"
      ]
    },
    {
      "cell_type": "markdown",
      "source": [
        "How many visits did each page get (they are in the last column of the second row, we read them manually)?"
      ],
      "metadata": {
        "id": "DWJHEqxi_Sgp"
      }
    },
    {
      "cell_type": "code",
      "execution_count": null,
      "metadata": {
        "id": "wyPQ1FlQQHP1"
      },
      "outputs": [],
      "source": [
        "interact_visits = 10283\n",
        "connect_visits = 2742\n",
        "learn_visits = 2747\n",
        "help_visits = 3180\n",
        "services_visits = 2064"
      ]
    },
    {
      "cell_type": "markdown",
      "source": [
        "From the above information, we can calculate the number of visitors who didn't click on the button"
      ],
      "metadata": {
        "id": "l9iELhHM_Vz9"
      }
    },
    {
      "cell_type": "code",
      "execution_count": null,
      "metadata": {
        "id": "L2fqknAvQHP4"
      },
      "outputs": [],
      "source": [
        "interact_no_click = interact_visits - interact_clicks\n",
        "connect_no_click = connect_visits - connect_clicks\n",
        "learn_no_click = learn_visits - learn_clicks\n",
        "help_no_click = help_visits - help_clicks\n",
        "services_no_click = services_visits - services_clicks"
      ]
    },
    {
      "cell_type": "markdown",
      "source": [
        "Now we can make a contingency table that shows the clicks and no clicks for each version of the website"
      ],
      "metadata": {
        "id": "Fz-VBM9i_aBG"
      }
    },
    {
      "cell_type": "code",
      "execution_count": null,
      "metadata": {
        "colab": {
          "base_uri": "https://localhost:8080/",
          "height": 112
        },
        "id": "KBqGulfZQHP4",
        "outputId": "e6801856-072f-47ed-8eed-0500c4ca9680"
      },
      "outputs": [
        {
          "output_type": "execute_result",
          "data": {
            "text/plain": [
              "          Interact  Connect  Learn  Help  Services\n",
              "Click           42       53     21    38        45\n",
              "No-click     10241     2689   2726  3142      2019"
            ],
            "text/html": [
              "\n",
              "\n",
              "  <div id=\"df-1bbf58e7-310f-448d-a6bd-761223a7c7fe\">\n",
              "    <div class=\"colab-df-container\">\n",
              "      <div>\n",
              "<style scoped>\n",
              "    .dataframe tbody tr th:only-of-type {\n",
              "        vertical-align: middle;\n",
              "    }\n",
              "\n",
              "    .dataframe tbody tr th {\n",
              "        vertical-align: top;\n",
              "    }\n",
              "\n",
              "    .dataframe thead th {\n",
              "        text-align: right;\n",
              "    }\n",
              "</style>\n",
              "<table border=\"1\" class=\"dataframe\">\n",
              "  <thead>\n",
              "    <tr style=\"text-align: right;\">\n",
              "      <th></th>\n",
              "      <th>Interact</th>\n",
              "      <th>Connect</th>\n",
              "      <th>Learn</th>\n",
              "      <th>Help</th>\n",
              "      <th>Services</th>\n",
              "    </tr>\n",
              "  </thead>\n",
              "  <tbody>\n",
              "    <tr>\n",
              "      <th>Click</th>\n",
              "      <td>42</td>\n",
              "      <td>53</td>\n",
              "      <td>21</td>\n",
              "      <td>38</td>\n",
              "      <td>45</td>\n",
              "    </tr>\n",
              "    <tr>\n",
              "      <th>No-click</th>\n",
              "      <td>10241</td>\n",
              "      <td>2689</td>\n",
              "      <td>2726</td>\n",
              "      <td>3142</td>\n",
              "      <td>2019</td>\n",
              "    </tr>\n",
              "  </tbody>\n",
              "</table>\n",
              "</div>\n",
              "      <button class=\"colab-df-convert\" onclick=\"convertToInteractive('df-1bbf58e7-310f-448d-a6bd-761223a7c7fe')\"\n",
              "              title=\"Convert this dataframe to an interactive table.\"\n",
              "              style=\"display:none;\">\n",
              "\n",
              "  <svg xmlns=\"http://www.w3.org/2000/svg\" height=\"24px\"viewBox=\"0 0 24 24\"\n",
              "       width=\"24px\">\n",
              "    <path d=\"M0 0h24v24H0V0z\" fill=\"none\"/>\n",
              "    <path d=\"M18.56 5.44l.94 2.06.94-2.06 2.06-.94-2.06-.94-.94-2.06-.94 2.06-2.06.94zm-11 1L8.5 8.5l.94-2.06 2.06-.94-2.06-.94L8.5 2.5l-.94 2.06-2.06.94zm10 10l.94 2.06.94-2.06 2.06-.94-2.06-.94-.94-2.06-.94 2.06-2.06.94z\"/><path d=\"M17.41 7.96l-1.37-1.37c-.4-.4-.92-.59-1.43-.59-.52 0-1.04.2-1.43.59L10.3 9.45l-7.72 7.72c-.78.78-.78 2.05 0 2.83L4 21.41c.39.39.9.59 1.41.59.51 0 1.02-.2 1.41-.59l7.78-7.78 2.81-2.81c.8-.78.8-2.07 0-2.86zM5.41 20L4 18.59l7.72-7.72 1.47 1.35L5.41 20z\"/>\n",
              "  </svg>\n",
              "      </button>\n",
              "\n",
              "\n",
              "\n",
              "    <div id=\"df-5e1b7854-7d23-45fe-9b18-ceeb3df18963\">\n",
              "      <button class=\"colab-df-quickchart\" onclick=\"quickchart('df-5e1b7854-7d23-45fe-9b18-ceeb3df18963')\"\n",
              "              title=\"Suggest charts.\"\n",
              "              style=\"display:none;\">\n",
              "\n",
              "<svg xmlns=\"http://www.w3.org/2000/svg\" height=\"24px\"viewBox=\"0 0 24 24\"\n",
              "     width=\"24px\">\n",
              "    <g>\n",
              "        <path d=\"M19 3H5c-1.1 0-2 .9-2 2v14c0 1.1.9 2 2 2h14c1.1 0 2-.9 2-2V5c0-1.1-.9-2-2-2zM9 17H7v-7h2v7zm4 0h-2V7h2v10zm4 0h-2v-4h2v4z\"/>\n",
              "    </g>\n",
              "</svg>\n",
              "      </button>\n",
              "    </div>\n",
              "\n",
              "<style>\n",
              "  .colab-df-quickchart {\n",
              "    background-color: #E8F0FE;\n",
              "    border: none;\n",
              "    border-radius: 50%;\n",
              "    cursor: pointer;\n",
              "    display: none;\n",
              "    fill: #1967D2;\n",
              "    height: 32px;\n",
              "    padding: 0 0 0 0;\n",
              "    width: 32px;\n",
              "  }\n",
              "\n",
              "  .colab-df-quickchart:hover {\n",
              "    background-color: #E2EBFA;\n",
              "    box-shadow: 0px 1px 2px rgba(60, 64, 67, 0.3), 0px 1px 3px 1px rgba(60, 64, 67, 0.15);\n",
              "    fill: #174EA6;\n",
              "  }\n",
              "\n",
              "  [theme=dark] .colab-df-quickchart {\n",
              "    background-color: #3B4455;\n",
              "    fill: #D2E3FC;\n",
              "  }\n",
              "\n",
              "  [theme=dark] .colab-df-quickchart:hover {\n",
              "    background-color: #434B5C;\n",
              "    box-shadow: 0px 1px 3px 1px rgba(0, 0, 0, 0.15);\n",
              "    filter: drop-shadow(0px 1px 2px rgba(0, 0, 0, 0.3));\n",
              "    fill: #FFFFFF;\n",
              "  }\n",
              "</style>\n",
              "\n",
              "    <script>\n",
              "      async function quickchart(key) {\n",
              "        const containerElement = document.querySelector('#' + key);\n",
              "        const charts = await google.colab.kernel.invokeFunction(\n",
              "            'suggestCharts', [key], {});\n",
              "      }\n",
              "    </script>\n",
              "\n",
              "      <script>\n",
              "\n",
              "function displayQuickchartButton(domScope) {\n",
              "  let quickchartButtonEl =\n",
              "    domScope.querySelector('#df-5e1b7854-7d23-45fe-9b18-ceeb3df18963 button.colab-df-quickchart');\n",
              "  quickchartButtonEl.style.display =\n",
              "    google.colab.kernel.accessAllowed ? 'block' : 'none';\n",
              "}\n",
              "\n",
              "        displayQuickchartButton(document);\n",
              "      </script>\n",
              "      <style>\n",
              "    .colab-df-container {\n",
              "      display:flex;\n",
              "      flex-wrap:wrap;\n",
              "      gap: 12px;\n",
              "    }\n",
              "\n",
              "    .colab-df-convert {\n",
              "      background-color: #E8F0FE;\n",
              "      border: none;\n",
              "      border-radius: 50%;\n",
              "      cursor: pointer;\n",
              "      display: none;\n",
              "      fill: #1967D2;\n",
              "      height: 32px;\n",
              "      padding: 0 0 0 0;\n",
              "      width: 32px;\n",
              "    }\n",
              "\n",
              "    .colab-df-convert:hover {\n",
              "      background-color: #E2EBFA;\n",
              "      box-shadow: 0px 1px 2px rgba(60, 64, 67, 0.3), 0px 1px 3px 1px rgba(60, 64, 67, 0.15);\n",
              "      fill: #174EA6;\n",
              "    }\n",
              "\n",
              "    [theme=dark] .colab-df-convert {\n",
              "      background-color: #3B4455;\n",
              "      fill: #D2E3FC;\n",
              "    }\n",
              "\n",
              "    [theme=dark] .colab-df-convert:hover {\n",
              "      background-color: #434B5C;\n",
              "      box-shadow: 0px 1px 3px 1px rgba(0, 0, 0, 0.15);\n",
              "      filter: drop-shadow(0px 1px 2px rgba(0, 0, 0, 0.3));\n",
              "      fill: #FFFFFF;\n",
              "    }\n",
              "  </style>\n",
              "\n",
              "      <script>\n",
              "        const buttonEl =\n",
              "          document.querySelector('#df-1bbf58e7-310f-448d-a6bd-761223a7c7fe button.colab-df-convert');\n",
              "        buttonEl.style.display =\n",
              "          google.colab.kernel.accessAllowed ? 'block' : 'none';\n",
              "\n",
              "        async function convertToInteractive(key) {\n",
              "          const element = document.querySelector('#df-1bbf58e7-310f-448d-a6bd-761223a7c7fe');\n",
              "          const dataTable =\n",
              "            await google.colab.kernel.invokeFunction('convertToInteractive',\n",
              "                                                     [key], {});\n",
              "          if (!dataTable) return;\n",
              "\n",
              "          const docLinkHtml = 'Like what you see? Visit the ' +\n",
              "            '<a target=\"_blank\" href=https://colab.research.google.com/notebooks/data_table.ipynb>data table notebook</a>'\n",
              "            + ' to learn more about interactive tables.';\n",
              "          element.innerHTML = '';\n",
              "          dataTable['output_type'] = 'display_data';\n",
              "          await google.colab.output.renderOutput(dataTable, element);\n",
              "          const docLink = document.createElement('div');\n",
              "          docLink.innerHTML = docLinkHtml;\n",
              "          element.appendChild(docLink);\n",
              "        }\n",
              "      </script>\n",
              "    </div>\n",
              "  </div>\n"
            ]
          },
          "metadata": {},
          "execution_count": 7
        }
      ],
      "source": [
        "clicks = [interact_clicks, connect_clicks, learn_clicks, help_clicks, services_clicks]\n",
        "noclicks = [interact_no_click, connect_no_click, learn_no_click, help_no_click, services_no_click]\n",
        "\n",
        "observed_results = pd.DataFrame(data = [clicks, noclicks],\n",
        "                                columns = [\"Interact\", \"Connect\", \"Learn\", \"Help\", \"Services\"],\n",
        "                                index = [\"Click\", \"No-click\"])\n",
        "\n",
        "observed_results"
      ]
    },
    {
      "cell_type": "markdown",
      "metadata": {
        "id": "8iXWEk2mQHP5"
      },
      "source": [
        "## 4.&nbsp; Calculate the test result"
      ]
    },
    {
      "cell_type": "code",
      "execution_count": null,
      "metadata": {
        "id": "2b-wAkscQHP5"
      },
      "outputs": [],
      "source": [
        "chisq, pvalue, df, expected = stats.chi2_contingency(observed_results)"
      ]
    },
    {
      "cell_type": "code",
      "source": [
        "pvalue"
      ],
      "metadata": {
        "colab": {
          "base_uri": "https://localhost:8080/"
        },
        "id": "yw3yLXSGX-8w",
        "outputId": "64e7c576-0442-4175-d4c0-9a008a08ffe5"
      },
      "execution_count": null,
      "outputs": [
        {
          "output_type": "execute_result",
          "data": {
            "text/plain": [
              "4.852334301093838e-20"
            ]
          },
          "metadata": {},
          "execution_count": 9
        }
      ]
    },
    {
      "cell_type": "markdown",
      "source": [
        "## 5.&nbsp; Interpret the test result"
      ],
      "metadata": {
        "id": "Gq_wK-NYo6M0"
      }
    },
    {
      "cell_type": "code",
      "source": [
        "if pvalue > alpha:\n",
        "  print(\"Do not reject the null hypothesis\")\n",
        "else:\n",
        "  print(\"Reject the null hypothesis\")"
      ],
      "metadata": {
        "colab": {
          "base_uri": "https://localhost:8080/"
        },
        "id": "eiEVFSiMpKNG",
        "outputId": "73f9f856-6990-45ba-fda4-a72ea9eac532"
      },
      "execution_count": null,
      "outputs": [
        {
          "output_type": "stream",
          "name": "stdout",
          "text": [
            "Reject the null hypothesis\n"
          ]
        }
      ]
    },
    {
      "cell_type": "markdown",
      "source": [
        "Since the p-value is (much) smaller than alpha, we reject the Null Hypothesis.\n",
        "\n",
        "> Remember: **If p is low, the Null must go!**\n",
        "\n",
        "This means that at least one of the five different versions performed significantly better or worse than the others."
      ],
      "metadata": {
        "id": "Siew9N4kpUw7"
      }
    },
    {
      "cell_type": "markdown",
      "metadata": {
        "id": "hFGzapmDQHP6"
      },
      "source": [
        "# But how do we decide who's the winner?\n",
        "\n",
        "If you feel very brave, read about [Post Hoc Tests](https://alanarnholt.github.io/PDS-Bookdown2/post-hoc-tests-1.html) and find out whether we can declare a clear winner.\n",
        "\n",
        "> **In brief:** Post hoc tests, also known as post hoc comparisons or pairwise comparisons, are statistical procedures used in conjunction with a Chi-Squared test to determine specific differences between groups or conditions after obtaining significant results from the Chi-Squared test. Once the Chi-Squared test reveals a significant difference among the variables being examined, post hoc tests are employed to identify which specific groups or categories are significantly different from each other.\n",
        "\n",
        "We have 10 possible dual tests to perform:\n",
        "* Interact - Learn\n",
        "* Interact - Help\n",
        "* Interact - Connect\n",
        "* Interact - Services\n",
        "* Learn - Help\n",
        "* Learn - Connect\n",
        "* Learn - Services\n",
        "* Help - Connect\n",
        "* Help - Services\n",
        "* Connect - Services\n",
        "\n",
        "The level of alpha we selected for the chi-squared test cannot be same for the dual tests. If there was an error of 10% in each of the tests, this would sum up to much more than the 10% total we set for alpha, so we will need to be much more restrictive in the dual tests. Therefore, we will split the value of alpha equally among the dual tests to be performed."
      ]
    },
    {
      "cell_type": "code",
      "execution_count": null,
      "metadata": {
        "colab": {
          "base_uri": "https://localhost:8080/"
        },
        "id": "QwKOK4eUQHP7",
        "outputId": "91bd1aec-f699-4e55-aff9-acb0ae4d1766"
      },
      "outputs": [
        {
          "output_type": "execute_result",
          "data": {
            "text/plain": [
              "0.01"
            ]
          },
          "metadata": {},
          "execution_count": 10
        }
      ],
      "source": [
        "possible_combinations = 10\n",
        "alpha_post_hoc = alpha / possible_combinations\n",
        "alpha_post_hoc"
      ]
    },
    {
      "cell_type": "markdown",
      "source": [
        "Before we begin, let's have a look at the click through rates to see the relative success of each version"
      ],
      "metadata": {
        "id": "HDtKJvn-wiv1"
      }
    },
    {
      "cell_type": "code",
      "execution_count": null,
      "metadata": {
        "id": "mQLyrfiQQHP3",
        "colab": {
          "base_uri": "https://localhost:8080/",
          "height": 206
        },
        "outputId": "8cc70ac3-c200-4c32-ae9d-fe96bef967cb"
      },
      "outputs": [
        {
          "output_type": "execute_result",
          "data": {
            "text/plain": [
              "      rates     names\n",
              "4  0.021802  Services\n",
              "1  0.019329   Connect\n",
              "3  0.011950      Help\n",
              "2  0.007645     Learn\n",
              "0  0.004084  Interact"
            ],
            "text/html": [
              "\n",
              "\n",
              "  <div id=\"df-7e443678-132f-462e-83da-546b454e180d\">\n",
              "    <div class=\"colab-df-container\">\n",
              "      <div>\n",
              "<style scoped>\n",
              "    .dataframe tbody tr th:only-of-type {\n",
              "        vertical-align: middle;\n",
              "    }\n",
              "\n",
              "    .dataframe tbody tr th {\n",
              "        vertical-align: top;\n",
              "    }\n",
              "\n",
              "    .dataframe thead th {\n",
              "        text-align: right;\n",
              "    }\n",
              "</style>\n",
              "<table border=\"1\" class=\"dataframe\">\n",
              "  <thead>\n",
              "    <tr style=\"text-align: right;\">\n",
              "      <th></th>\n",
              "      <th>rates</th>\n",
              "      <th>names</th>\n",
              "    </tr>\n",
              "  </thead>\n",
              "  <tbody>\n",
              "    <tr>\n",
              "      <th>4</th>\n",
              "      <td>0.021802</td>\n",
              "      <td>Services</td>\n",
              "    </tr>\n",
              "    <tr>\n",
              "      <th>1</th>\n",
              "      <td>0.019329</td>\n",
              "      <td>Connect</td>\n",
              "    </tr>\n",
              "    <tr>\n",
              "      <th>3</th>\n",
              "      <td>0.011950</td>\n",
              "      <td>Help</td>\n",
              "    </tr>\n",
              "    <tr>\n",
              "      <th>2</th>\n",
              "      <td>0.007645</td>\n",
              "      <td>Learn</td>\n",
              "    </tr>\n",
              "    <tr>\n",
              "      <th>0</th>\n",
              "      <td>0.004084</td>\n",
              "      <td>Interact</td>\n",
              "    </tr>\n",
              "  </tbody>\n",
              "</table>\n",
              "</div>\n",
              "      <button class=\"colab-df-convert\" onclick=\"convertToInteractive('df-7e443678-132f-462e-83da-546b454e180d')\"\n",
              "              title=\"Convert this dataframe to an interactive table.\"\n",
              "              style=\"display:none;\">\n",
              "\n",
              "  <svg xmlns=\"http://www.w3.org/2000/svg\" height=\"24px\"viewBox=\"0 0 24 24\"\n",
              "       width=\"24px\">\n",
              "    <path d=\"M0 0h24v24H0V0z\" fill=\"none\"/>\n",
              "    <path d=\"M18.56 5.44l.94 2.06.94-2.06 2.06-.94-2.06-.94-.94-2.06-.94 2.06-2.06.94zm-11 1L8.5 8.5l.94-2.06 2.06-.94-2.06-.94L8.5 2.5l-.94 2.06-2.06.94zm10 10l.94 2.06.94-2.06 2.06-.94-2.06-.94-.94-2.06-.94 2.06-2.06.94z\"/><path d=\"M17.41 7.96l-1.37-1.37c-.4-.4-.92-.59-1.43-.59-.52 0-1.04.2-1.43.59L10.3 9.45l-7.72 7.72c-.78.78-.78 2.05 0 2.83L4 21.41c.39.39.9.59 1.41.59.51 0 1.02-.2 1.41-.59l7.78-7.78 2.81-2.81c.8-.78.8-2.07 0-2.86zM5.41 20L4 18.59l7.72-7.72 1.47 1.35L5.41 20z\"/>\n",
              "  </svg>\n",
              "      </button>\n",
              "\n",
              "\n",
              "\n",
              "    <div id=\"df-4cffa3b9-e949-4ee5-a08e-3b7dfa0c0f19\">\n",
              "      <button class=\"colab-df-quickchart\" onclick=\"quickchart('df-4cffa3b9-e949-4ee5-a08e-3b7dfa0c0f19')\"\n",
              "              title=\"Suggest charts.\"\n",
              "              style=\"display:none;\">\n",
              "\n",
              "<svg xmlns=\"http://www.w3.org/2000/svg\" height=\"24px\"viewBox=\"0 0 24 24\"\n",
              "     width=\"24px\">\n",
              "    <g>\n",
              "        <path d=\"M19 3H5c-1.1 0-2 .9-2 2v14c0 1.1.9 2 2 2h14c1.1 0 2-.9 2-2V5c0-1.1-.9-2-2-2zM9 17H7v-7h2v7zm4 0h-2V7h2v10zm4 0h-2v-4h2v4z\"/>\n",
              "    </g>\n",
              "</svg>\n",
              "      </button>\n",
              "    </div>\n",
              "\n",
              "<style>\n",
              "  .colab-df-quickchart {\n",
              "    background-color: #E8F0FE;\n",
              "    border: none;\n",
              "    border-radius: 50%;\n",
              "    cursor: pointer;\n",
              "    display: none;\n",
              "    fill: #1967D2;\n",
              "    height: 32px;\n",
              "    padding: 0 0 0 0;\n",
              "    width: 32px;\n",
              "  }\n",
              "\n",
              "  .colab-df-quickchart:hover {\n",
              "    background-color: #E2EBFA;\n",
              "    box-shadow: 0px 1px 2px rgba(60, 64, 67, 0.3), 0px 1px 3px 1px rgba(60, 64, 67, 0.15);\n",
              "    fill: #174EA6;\n",
              "  }\n",
              "\n",
              "  [theme=dark] .colab-df-quickchart {\n",
              "    background-color: #3B4455;\n",
              "    fill: #D2E3FC;\n",
              "  }\n",
              "\n",
              "  [theme=dark] .colab-df-quickchart:hover {\n",
              "    background-color: #434B5C;\n",
              "    box-shadow: 0px 1px 3px 1px rgba(0, 0, 0, 0.15);\n",
              "    filter: drop-shadow(0px 1px 2px rgba(0, 0, 0, 0.3));\n",
              "    fill: #FFFFFF;\n",
              "  }\n",
              "</style>\n",
              "\n",
              "    <script>\n",
              "      async function quickchart(key) {\n",
              "        const containerElement = document.querySelector('#' + key);\n",
              "        const charts = await google.colab.kernel.invokeFunction(\n",
              "            'suggestCharts', [key], {});\n",
              "      }\n",
              "    </script>\n",
              "\n",
              "      <script>\n",
              "\n",
              "function displayQuickchartButton(domScope) {\n",
              "  let quickchartButtonEl =\n",
              "    domScope.querySelector('#df-4cffa3b9-e949-4ee5-a08e-3b7dfa0c0f19 button.colab-df-quickchart');\n",
              "  quickchartButtonEl.style.display =\n",
              "    google.colab.kernel.accessAllowed ? 'block' : 'none';\n",
              "}\n",
              "\n",
              "        displayQuickchartButton(document);\n",
              "      </script>\n",
              "      <style>\n",
              "    .colab-df-container {\n",
              "      display:flex;\n",
              "      flex-wrap:wrap;\n",
              "      gap: 12px;\n",
              "    }\n",
              "\n",
              "    .colab-df-convert {\n",
              "      background-color: #E8F0FE;\n",
              "      border: none;\n",
              "      border-radius: 50%;\n",
              "      cursor: pointer;\n",
              "      display: none;\n",
              "      fill: #1967D2;\n",
              "      height: 32px;\n",
              "      padding: 0 0 0 0;\n",
              "      width: 32px;\n",
              "    }\n",
              "\n",
              "    .colab-df-convert:hover {\n",
              "      background-color: #E2EBFA;\n",
              "      box-shadow: 0px 1px 2px rgba(60, 64, 67, 0.3), 0px 1px 3px 1px rgba(60, 64, 67, 0.15);\n",
              "      fill: #174EA6;\n",
              "    }\n",
              "\n",
              "    [theme=dark] .colab-df-convert {\n",
              "      background-color: #3B4455;\n",
              "      fill: #D2E3FC;\n",
              "    }\n",
              "\n",
              "    [theme=dark] .colab-df-convert:hover {\n",
              "      background-color: #434B5C;\n",
              "      box-shadow: 0px 1px 3px 1px rgba(0, 0, 0, 0.15);\n",
              "      filter: drop-shadow(0px 1px 2px rgba(0, 0, 0, 0.3));\n",
              "      fill: #FFFFFF;\n",
              "    }\n",
              "  </style>\n",
              "\n",
              "      <script>\n",
              "        const buttonEl =\n",
              "          document.querySelector('#df-7e443678-132f-462e-83da-546b454e180d button.colab-df-convert');\n",
              "        buttonEl.style.display =\n",
              "          google.colab.kernel.accessAllowed ? 'block' : 'none';\n",
              "\n",
              "        async function convertToInteractive(key) {\n",
              "          const element = document.querySelector('#df-7e443678-132f-462e-83da-546b454e180d');\n",
              "          const dataTable =\n",
              "            await google.colab.kernel.invokeFunction('convertToInteractive',\n",
              "                                                     [key], {});\n",
              "          if (!dataTable) return;\n",
              "\n",
              "          const docLinkHtml = 'Like what you see? Visit the ' +\n",
              "            '<a target=\"_blank\" href=https://colab.research.google.com/notebooks/data_table.ipynb>data table notebook</a>'\n",
              "            + ' to learn more about interactive tables.';\n",
              "          element.innerHTML = '';\n",
              "          dataTable['output_type'] = 'display_data';\n",
              "          await google.colab.output.renderOutput(dataTable, element);\n",
              "          const docLink = document.createElement('div');\n",
              "          docLink.innerHTML = docLinkHtml;\n",
              "          element.appendChild(docLink);\n",
              "        }\n",
              "      </script>\n",
              "    </div>\n",
              "  </div>\n"
            ]
          },
          "metadata": {},
          "execution_count": 11
        }
      ],
      "source": [
        "# click-through rates\n",
        "interact_ctr = interact_clicks / interact_visits\n",
        "connect_ctr = connect_clicks / connect_visits\n",
        "learn_ctr = learn_clicks / learn_visits\n",
        "help_ctr = help_clicks / help_visits\n",
        "services_ctr = services_clicks / services_visits\n",
        "\n",
        "# display as DataFrame\n",
        "rates = [interact_ctr, connect_ctr, learn_ctr, help_ctr, services_ctr]\n",
        "names = [\"Interact\", \"Connect\", \"Learn\", \"Help\", \"Services\"]\n",
        "\n",
        "ctr_df = pd.DataFrame({\"rates\": rates, \"names\": names})\n",
        "ctr_df.sort_values(\"rates\", ascending=False)"
      ]
    },
    {
      "cell_type": "markdown",
      "source": [
        "It appears that Services and Connect have achieved the highest level of success. However, to gain a comprehensive understanding of statistical significance, we will conduct a post hoc test across all versions. Nonetheless, our primary emphasis should be on analysing the discrepancy between Services and Connect, as well as the disparity between these two and the remaining versions."
      ],
      "metadata": {
        "id": "mIamPFT9xD8K"
      }
    },
    {
      "cell_type": "code",
      "source": [
        "# empty dictionary to fill with our results\n",
        "stat_significant_dict = {\n",
        "                        \"Interact\": [],\n",
        "                        \"Connect\": [],\n",
        "                        \"Learn\": [],\n",
        "                        \"Help\": [],\n",
        "                        \"Services\": []\n",
        "                         }\n",
        "\n",
        "# compare each version to each other version\n",
        "for i in observed_results.columns:\n",
        "  for j in observed_results.columns:\n",
        "    # use scipy to find the p-value of each pair\n",
        "    chisq, pvalue, df, expected = stats.chi2_contingency(observed_results.loc[:, [i, j]], correction=False)\n",
        "    # boolean: if the p-value is lower than alpha, our result is statistically significant\n",
        "    stat_significant_dict[i].append(pvalue < alpha_post_hoc)\n",
        "\n",
        "# create a DataFrame of results\n",
        "stat_significant_df = pd.DataFrame(stat_significant_dict,\n",
        "                                   index=observed_results.columns)\n",
        "\n",
        "# create a heatmap from the DataFrame & red/green colour palette\n",
        "red_green_palette = sns.diverging_palette(10, 120, n=2, s=70, l=50)\n",
        "ax = sns.heatmap(stat_significant_df, cmap=red_green_palette)\n",
        "\n",
        "# Manually specify colorbar labelling after it's been generated\n",
        "colorbar = ax.collections[0].colorbar\n",
        "colorbar.set_ticks([0.25, 0.75])\n",
        "colorbar.set_ticklabels(['False', 'True'])\n",
        "\n",
        "# Add a title to the heatmap\n",
        "ax.set_title(\"Statistical Significance in Pairwise Tests: True or False?\", pad=10);"
      ],
      "metadata": {
        "colab": {
          "base_uri": "https://localhost:8080/",
          "height": 458
        },
        "id": "TauIWSIpr3HL",
        "outputId": "bb4110c8-dd1b-400c-fa68-ab2e7530e9ab"
      },
      "execution_count": null,
      "outputs": [
        {
          "output_type": "display_data",
          "data": {
            "text/plain": [
              "<Figure size 640x480 with 2 Axes>"
            ],
            "image/png": "[encoded data removed]"
          },
          "metadata": {}
        }
      ]
    },
    {
      "cell_type": "markdown",
      "source": [
        "Analysing our heatmap, it is evident that the version with the highest click-through rate, `Services`, exhibits a statistically significant difference when compared to all other versions except for `Connect`, which possesses the second-highest click-through rate. As a result, declaring a clear winner based on post hoc tests becomes challenging, therefore we can only say that both `Services` and `Connect` are the winners.\n",
        "\n",
        "However, if a definitive winner is required, additional steps need to be implemented. This is where we transition from the realm of statistics to the business world. The following actions can help in determining the version to be featured on the website in the future:\n",
        " - Consider other metrics alongside click-through rate.\n",
        " - Incorporate qualitative research findings.\n",
        " - Seek input from subject-matter experts.\n",
        " - Redesign the experiment and conduct it once more."
      ],
      "metadata": {
        "id": "-nCqdEABzLB-"
      }
    },
    {
      "cell_type": "code",
      "source": [],
      "metadata": {
        "id": "jcQe_OC11ULj"
      },
      "execution_count": null,
      "outputs": []
    }
  ],
  "metadata": {
    "kernelspec": {
      "display_name": "Python 3",
      "language": "python",
      "name": "python3"
    },
    "language_info": {
      "codemirror_mode": {
        "name": "ipython",
        "version": 3
      },
      "file_extension": ".py",
      "mimetype": "text/x-python",
      "name": "python",
      "nbconvert_exporter": "python",
      "pygments_lexer": "ipython3",
      "version": "3.8.5"
    },
    "colab": {
      "provenance": []
    }
  },
  "nbformat": 4,
  "nbformat_minor": 0
}